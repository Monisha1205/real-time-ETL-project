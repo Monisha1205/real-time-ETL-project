{
 "cells": [
  {
   "cell_type": "code",
   "execution_count": 2,
   "id": "6321a7ae",
   "metadata": {},
   "outputs": [
    {
     "name": "stdout",
     "output_type": "stream",
     "text": [
      "Enter output CSV filename (without extension): output_df\n",
      "Enter campaign names (comma-separated), or type 'exit' to quit: Foreign|Sales|Tamil\n",
      "Enter start date (format: dd-mm-yyyy): 01-03-2024\n",
      "Enter end date (format: dd-mm-yyyy): 31-03-2024\n"
     ]
    },
    {
     "name": "stderr",
     "output_type": "stream",
     "text": [
      "C:\\Users\\Admin\\anaconda3\\envs\\AIcoures\\lib\\site-packages\\ipykernel_launcher.py:14: SettingWithCopyWarning: \n",
      "A value is trying to be set on a copy of a slice from a DataFrame.\n",
      "Try using .loc[row_indexer,col_indexer] = value instead\n",
      "\n",
      "See the caveats in the documentation: https://pandas.pydata.org/pandas-docs/stable/user_guide/indexing.html#returning-a-view-versus-a-copy\n",
      "  \n"
     ]
    },
    {
     "name": "stdout",
     "output_type": "stream",
     "text": [
      "Data saved to output_df.csv\n",
      "Enter campaign names (comma-separated), or type 'exit' to quit: exit\n"
     ]
    }
   ],
   "source": [
    "import pandas as pd\n",
    "\n",
    "class CampaignProcessor:\n",
    "    def __init__(self, input_file):\n",
    "        self.df = pd.read_csv(input_file)\n",
    "    \n",
    "    def process_campaign_data(self, campaign_names, start_date=None, end_date=None):\n",
    "        filtered_df = self.df[['Campaign name', 'Day', 'Amount spent (INR)', 'Results', \n",
    "                               'CTR (link click-through rate)', 'Link clicks', 'Landing page views']]\n",
    "        \n",
    "        filtered_df.columns = ['Campaign name', 'Day', 'AD spent', 'No of leads', \n",
    "                               'CTR (link click-through rate)', 'Link clicks', 'Landing page views']\n",
    "        \n",
    "        filtered_df['Day'] = pd.to_datetime(filtered_df['Day']).dt.strftime('%d-%m-%Y (%a)')\n",
    "        filtered_df = filtered_df.fillna(0)\n",
    "        \n",
    "        if start_date and end_date:\n",
    "            filtered_df = filtered_df[(filtered_df['Day'] >= start_date) & (filtered_df['Day'] <= end_date)]\n",
    "        \n",
    "        filtered_df = filtered_df[filtered_df['Campaign name'].isin(campaign_names)]\n",
    "        \n",
    "        filtered_df['Cost per lead'] = filtered_df['AD spent'] / filtered_df['No of leads']\n",
    "        filtered_df['Cost per lead'] = filtered_df['Cost per lead'].map('{:.2f}%'.format)\n",
    "        \n",
    "        filtered_df['CTR (link click-through rate)'] = filtered_df['CTR (link click-through rate)'].map('{:.2f}%'.format)\n",
    "        \n",
    "        filtered_df['Link clicks'] = filtered_df['Link clicks'] \n",
    "        filtered_df['LP views'] = filtered_df['Landing page views']\n",
    "        filtered_df['Member passed'] = (filtered_df['LP views'] / filtered_df['Link clicks']) * 100\n",
    "        filtered_df['Member passed'] = filtered_df['Member passed'].round(2)\n",
    "        \n",
    "        filtered_df['LP conversion'] = (filtered_df['No of leads'] / filtered_df['Landing page views']) * 100\n",
    "        filtered_df['LP conversion'] = filtered_df['LP conversion'].map('{:.2f}%'.format)\n",
    "        \n",
    "        return filtered_df\n",
    "    \n",
    "    def save_to_csv(self, df, filename, append=False):\n",
    "        mode = 'a' if append else 'w'\n",
    "        header = True if not append else False\n",
    "        df.to_csv(filename, index=False, mode=mode, header=header)\n",
    "        print(f\"Data saved to {filename}\")\n",
    "\n",
    "def main():\n",
    "    input_file = \"Inputdata - Sheet1.csv\"\n",
    "    campaign_processor = CampaignProcessor(input_file)\n",
    "    output_filename = input(\"Enter output CSV filename (without extension): \") + '.csv'\n",
    "    \n",
    "    while True:\n",
    "        campaign_names_input = input(\"Enter campaign names (comma-separated), or type 'exit' to quit: \")\n",
    "        if campaign_names_input.lower() == 'exit':\n",
    "            break\n",
    "        \n",
    "        start_date = input(\"Enter start date (format: dd-mm-yyyy): \")\n",
    "        end_date = input(\"Enter end date (format: dd-mm-yyyy): \")\n",
    "        \n",
    "        campaign_names_input = campaign_names_input.split(',')\n",
    "        output_df = campaign_processor.process_campaign_data(campaign_names_input, start_date, end_date)\n",
    "        \n",
    "        campaign_processor.save_to_csv(output_df, output_filename, append=True)\n",
    "\n",
    "if __name__ == \"__main__\":\n",
    "    main()"
   ]
  },
  {
   "cell_type": "code",
   "execution_count": null,
   "id": "38a24d4b",
   "metadata": {},
   "outputs": [],
   "source": []
  },
  {
   "cell_type": "code",
   "execution_count": null,
   "id": "8740344f",
   "metadata": {},
   "outputs": [],
   "source": []
  }
 ],
 "metadata": {
  "kernelspec": {
   "display_name": "Python 3",
   "language": "python",
   "name": "python3"
  },
  "language_info": {
   "codemirror_mode": {
    "name": "ipython",
    "version": 3
   },
   "file_extension": ".py",
   "mimetype": "text/x-python",
   "name": "python",
   "nbconvert_exporter": "python",
   "pygments_lexer": "ipython3",
   "version": "3.7.6"
  }
 },
 "nbformat": 4,
 "nbformat_minor": 5
}
